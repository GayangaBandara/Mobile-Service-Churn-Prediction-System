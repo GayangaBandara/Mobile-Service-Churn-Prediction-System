{
 "cells": [
  {
   "cell_type": "code",
   "execution_count": 94,
   "id": "853fcf43",
   "metadata": {},
   "outputs": [],
   "source": [
    "import pandas as pd"
   ]
  },
  {
   "cell_type": "code",
   "execution_count": 95,
   "id": "a8655ba6",
   "metadata": {},
   "outputs": [
    {
     "data": {
      "text/plain": [
       "Index(['Age', 'Avg Monthly GB Download', 'Avg Monthly Long Distance Charges',\n",
       "       'Churn Category', 'Churn Reason', 'Churn Score', 'City', 'CLTV',\n",
       "       'Contract', 'Country', 'Customer ID', 'Customer Status', 'Dependents',\n",
       "       'Device Protection Plan', 'Gender', 'Internet Service', 'Internet Type',\n",
       "       'Lat Long', 'Latitude', 'Longitude', 'Married', 'Monthly Charge',\n",
       "       'Multiple Lines', 'Number of Dependents', 'Number of Referrals',\n",
       "       'Offer', 'Online Backup', 'Online Security', 'Paperless Billing',\n",
       "       'Partner', 'Payment Method', 'Phone Service', 'Population',\n",
       "       'Premium Tech Support', 'Quarter', 'Referred a Friend',\n",
       "       'Satisfaction Score', 'Senior Citizen', 'State', 'Streaming Movies',\n",
       "       'Streaming Music', 'Streaming TV', 'Tenure in Months', 'Total Charges',\n",
       "       'Total Extra Data Charges', 'Total Long Distance Charges',\n",
       "       'Total Refunds', 'Total Revenue', 'Under 30', 'Unlimited Data',\n",
       "       'Zip Code', 'Churn'],\n",
       "      dtype='object')"
      ]
     },
     "execution_count": 95,
     "metadata": {},
     "output_type": "execute_result"
    }
   ],
   "source": [
    "df = pd.read_csv(\"Datasets/telco_train.csv\")\n",
    "df.columns"
   ]
  },
  {
   "cell_type": "code",
   "execution_count": 96,
   "id": "65e002e5",
   "metadata": {},
   "outputs": [
    {
     "name": "stdout",
     "output_type": "stream",
     "text": [
      "Zip Code\n",
      "92122    24\n",
      "92027    24\n",
      "92028    21\n",
      "92117    21\n",
      "92126    20\n",
      "         ..\n",
      "93249     1\n",
      "92610     1\n",
      "94087     1\n",
      "95616     1\n",
      "95683     1\n",
      "Name: count, Length: 1594, dtype: int64\n"
     ]
    }
   ],
   "source": [
    "print(df['Zip Code'].value_counts())"
   ]
  },
  {
   "cell_type": "code",
   "execution_count": 97,
   "id": "82be6401",
   "metadata": {},
   "outputs": [],
   "source": [
    "df = df.drop(['Churn Category','Churn Reason','Churn Score','City','Country','Customer ID','Customer Status','Lat Long', 'Latitude', 'Longitude','Population','Quarter','State','Zip Code'],axis=1)"
   ]
  },
  {
   "cell_type": "code",
   "execution_count": 98,
   "id": "25008652",
   "metadata": {},
   "outputs": [
    {
     "data": {
      "text/plain": [
       "Internet Type     886\n",
       "Offer            2324\n",
       "dtype: int64"
      ]
     },
     "execution_count": 98,
     "metadata": {},
     "output_type": "execute_result"
    }
   ],
   "source": [
    "df.isnull().sum()[df.isnull().sum() > 0]\n"
   ]
  },
  {
   "cell_type": "code",
   "execution_count": 99,
   "id": "9168fddd",
   "metadata": {},
   "outputs": [],
   "source": [
    "df.fillna(\"None\", inplace=True)\n"
   ]
  },
  {
   "cell_type": "code",
   "execution_count": 100,
   "id": "810645f2",
   "metadata": {},
   "outputs": [],
   "source": [
    "X = df.drop(['Churn'],axis=1)"
   ]
  },
  {
   "cell_type": "code",
   "execution_count": 108,
   "id": "28ce7117",
   "metadata": {},
   "outputs": [
    {
     "data": {
      "text/plain": [
       "Index(['Age', 'Avg Monthly GB Download', 'Avg Monthly Long Distance Charges',\n",
       "       'CLTV', 'Contract', 'Dependents', 'Device Protection Plan', 'Gender',\n",
       "       'Internet Service', 'Internet Type', 'Married', 'Monthly Charge',\n",
       "       'Multiple Lines', 'Number of Dependents', 'Number of Referrals',\n",
       "       'Offer', 'Online Backup', 'Online Security', 'Paperless Billing',\n",
       "       'Partner', 'Payment Method', 'Phone Service', 'Premium Tech Support',\n",
       "       'Referred a Friend', 'Satisfaction Score', 'Senior Citizen',\n",
       "       'Streaming Movies', 'Streaming Music', 'Streaming TV',\n",
       "       'Tenure in Months', 'Total Charges', 'Total Extra Data Charges',\n",
       "       'Total Long Distance Charges', 'Total Refunds', 'Total Revenue',\n",
       "       'Under 30', 'Unlimited Data'],\n",
       "      dtype='object')"
      ]
     },
     "execution_count": 108,
     "metadata": {},
     "output_type": "execute_result"
    }
   ],
   "source": [
    "X.columns"
   ]
  },
  {
   "cell_type": "code",
   "execution_count": 107,
   "id": "8c36963c",
   "metadata": {},
   "outputs": [
    {
     "name": "stdout",
     "output_type": "stream",
     "text": [
      "'{\"Age\":72,\"Avg Monthly GB Download\":4,\"Avg Monthly Long Distance Charges\":19.44,\"CLTV\":4849,\"Contract\":\"Two Year\",\"Dependents\":0,\"Device Protection Plan\":1,\"Gender\":\"Female\",\"Internet Service\":1,\"Internet Type\":\"Fiber Optic\",\"Married\":1,\"Monthly Charge\":88.4,\"Multiple Lines\":0,\"Number of Dependents\":0,\"Number of Referrals\":1,\"Offer\":\"None\",\"Online Backup\":1,\"Online Security\":0,\"Paperless Billing\":0,\"Partner\":1,\"Payment Method\":\"Bank Withdrawal\",\"Phone Service\":1,\"Premium Tech Support\":0,\"Referred a Friend\":1,\"Satisfaction Score\":3,\"Senior Citizen\":1,\"Streaming Movies\":1,\"Streaming Music\":1,\"Streaming TV\":0,\"Tenure in Months\":25,\"Total Charges\":2191.15,\"Total Extra Data Charges\":0,\"Total Long Distance Charges\":486.0,\"Total Refunds\":0.0,\"Total Revenue\":2677.15,\"Under 30\":0,\"Unlimited Data\":1}'\n"
     ]
    }
   ],
   "source": [
    "import pprint\n",
    "\n",
    "row_dict = X.iloc[0].to_json()\n",
    "pprint.pprint(row_dict,width=1000) "
   ]
  },
  {
   "cell_type": "code",
   "execution_count": 72,
   "id": "1bb26ea1",
   "metadata": {},
   "outputs": [],
   "source": [
    "y = df['Churn']"
   ]
  },
  {
   "cell_type": "code",
   "execution_count": 73,
   "id": "ba08ecbb",
   "metadata": {},
   "outputs": [],
   "source": [
    "categorical_cols = X.select_dtypes(include=['object', 'category']).columns.tolist()"
   ]
  },
  {
   "cell_type": "code",
   "execution_count": 74,
   "id": "dcb23318",
   "metadata": {},
   "outputs": [
    {
     "data": {
      "text/plain": [
       "['Contract', 'Gender', 'Internet Type', 'Offer', 'Payment Method']"
      ]
     },
     "execution_count": 74,
     "metadata": {},
     "output_type": "execute_result"
    }
   ],
   "source": [
    "categorical_cols"
   ]
  },
  {
   "cell_type": "code",
   "execution_count": 75,
   "id": "b6ea0841",
   "metadata": {},
   "outputs": [],
   "source": [
    "from sklearn.preprocessing import OneHotEncoder\n",
    "\n",
    "encoder = OneHotEncoder(sparse_output=False, drop='first')  \n",
    "encoded_data = encoder.fit_transform(X[categorical_cols])"
   ]
  },
  {
   "cell_type": "code",
   "execution_count": 76,
   "id": "def06cce",
   "metadata": {},
   "outputs": [
    {
     "name": "stdout",
     "output_type": "stream",
     "text": [
      "Index(['Age', 'Avg Monthly GB Download', 'Avg Monthly Long Distance Charges',\n",
      "       'CLTV', 'Dependents', 'Device Protection Plan', 'Internet Service',\n",
      "       'Married', 'Monthly Charge', 'Multiple Lines', 'Number of Dependents',\n",
      "       'Number of Referrals', 'Online Backup', 'Online Security',\n",
      "       'Paperless Billing', 'Partner', 'Phone Service', 'Premium Tech Support',\n",
      "       'Referred a Friend', 'Satisfaction Score', 'Senior Citizen',\n",
      "       'Streaming Movies', 'Streaming Music', 'Streaming TV',\n",
      "       'Tenure in Months', 'Total Charges', 'Total Extra Data Charges',\n",
      "       'Total Long Distance Charges', 'Total Refunds', 'Total Revenue',\n",
      "       'Under 30', 'Unlimited Data', 'Contract_One Year', 'Contract_Two Year',\n",
      "       'Gender_Male', 'Internet Type_DSL', 'Internet Type_Fiber Optic',\n",
      "       'Internet Type_None', 'Offer_Offer A', 'Offer_Offer B', 'Offer_Offer C',\n",
      "       'Offer_Offer D', 'Offer_Offer E', 'Payment Method_Credit Card',\n",
      "       'Payment Method_Mailed Check'],\n",
      "      dtype='object')\n"
     ]
    }
   ],
   "source": [
    "encoded_cols = encoder.get_feature_names_out(categorical_cols)\n",
    "\n",
    "encoded_df = pd.DataFrame(encoded_data, columns=encoded_cols, index=X.index)\n",
    "\n",
    "X = pd.concat([X.drop(columns=categorical_cols), encoded_df], axis=1)\n",
    "print(X.columns)"
   ]
  },
  {
   "cell_type": "code",
   "execution_count": 78,
   "id": "c9ed1cb1",
   "metadata": {},
   "outputs": [
    {
     "name": "stderr",
     "output_type": "stream",
     "text": [
      "c:\\Users\\saza\\.conda\\envs\\langchain\\lib\\site-packages\\sklearn\\linear_model\\_logistic.py:465: ConvergenceWarning: lbfgs failed to converge (status=1):\n",
      "STOP: TOTAL NO. OF ITERATIONS REACHED LIMIT.\n",
      "\n",
      "Increase the number of iterations (max_iter) or scale the data as shown in:\n",
      "    https://scikit-learn.org/stable/modules/preprocessing.html\n",
      "Please also refer to the documentation for alternative solver options:\n",
      "    https://scikit-learn.org/stable/modules/linear_model.html#logistic-regression\n",
      "  n_iter_i = _check_optimize_result(\n"
     ]
    },
    {
     "name": "stdout",
     "output_type": "stream",
     "text": [
      "Logistic: 0.94\n",
      "RandomForest: 0.96\n",
      "GradientBoosting: 0.96\n",
      "XGBoost: 0.96\n",
      "[LightGBM] [Warning] Found whitespace in feature_names, replace with underlines\n",
      "[LightGBM] [Info] Number of positive: 887, number of negative: 2493\n",
      "[LightGBM] [Info] Auto-choosing col-wise multi-threading, the overhead of testing was 0.000686 seconds.\n",
      "You can set `force_col_wise=true` to remove the overhead.\n",
      "[LightGBM] [Info] Total Bins 1905\n",
      "[LightGBM] [Info] Number of data points in the train set: 3380, number of used features: 45\n",
      "[LightGBM] [Info] [binary:BoostFromScore]: pavg=0.262426 -> initscore=-1.033397\n",
      "[LightGBM] [Info] Start training from score -1.033397\n",
      "LightGBM: 0.96\n",
      "SVM: 0.72\n",
      "KNN: 0.73\n",
      "NaiveBayes: 0.83\n",
      "MLP: 0.86\n"
     ]
    }
   ],
   "source": [
    "from sklearn.model_selection import train_test_split\n",
    "from sklearn.metrics import accuracy_score\n",
    "from sklearn.neural_network import MLPClassifier\n",
    "from sklearn.naive_bayes import GaussianNB\n",
    "from sklearn.neighbors import KNeighborsClassifier\n",
    "from sklearn.svm import SVC\n",
    "from lightgbm import LGBMClassifier\n",
    "from sklearn.ensemble import GradientBoostingClassifier\n",
    "from sklearn.ensemble import RandomForestClassifier\n",
    "from sklearn.linear_model import LogisticRegression\n",
    "from xgboost import XGBClassifier\n",
    "\n",
    "models = {\n",
    "    \"Logistic\": LogisticRegression(max_iter=1000),\n",
    "    \"RandomForest\": RandomForestClassifier(),\n",
    "    \"GradientBoosting\": GradientBoostingClassifier(),\n",
    "    \"XGBoost\": XGBClassifier(eval_metric='logloss'),\n",
    "    \"LightGBM\": LGBMClassifier(),\n",
    "    \"SVM\": SVC(),\n",
    "    \"KNN\": KNeighborsClassifier(),\n",
    "    \"NaiveBayes\": GaussianNB(),\n",
    "    \"MLP\": MLPClassifier(max_iter=500)\n",
    "}\n",
    "\n",
    "X_train, X_test, y_train, y_test = train_test_split(X, y, test_size=0.2, random_state=42)\n",
    "\n",
    "for name, model in models.items():\n",
    "    try:\n",
    "        model.fit(X_train, y_train)\n",
    "        preds = model.predict(X_test)\n",
    "        acc = accuracy_score(y_test, preds)\n",
    "        print(f\"{name}: {acc:.2f}\")\n",
    "    except Exception as e:\n",
    "        print(f\"{name} failed: {e}\")\n"
   ]
  },
  {
   "cell_type": "code",
   "execution_count": 79,
   "id": "c821cdb7",
   "metadata": {},
   "outputs": [],
   "source": [
    "model = XGBClassifier(    max_depth=4,        # reduce complexity\n",
    "    n_estimators=70,   # lower tree count\n",
    "    learning_rate=0.1,  # smaller steps\n",
    "    subsample=0.8,      # use 80% rows\n",
    "    colsample_bytree=0.8,  # use 80% features\n",
    "    reg_alpha=1,        # L1 regularization\n",
    "    reg_lambda=1,       # L2 regularization\n",
    "    eval_metric='logloss')\n"
   ]
  },
  {
   "cell_type": "code",
   "execution_count": 80,
   "id": "8589b74a",
   "metadata": {},
   "outputs": [
    {
     "data": {
      "image/png": "[encoded data removed]",
      "text/plain": [
       "<Figure size 640x480 with 1 Axes>"
      ]
     },
     "metadata": {},
     "output_type": "display_data"
    }
   ],
   "source": [
    "from sklearn.model_selection import learning_curve\n",
    "import matplotlib.pyplot as plt\n",
    "import numpy as np\n",
    "\n",
    "train_sizes, train_scores, test_scores = learning_curve(\n",
    "    model, X, y, cv=5, scoring='accuracy',\n",
    "    train_sizes=np.linspace(0.1, 1.0, 10)\n",
    ")\n",
    "\n",
    "train_mean = train_scores.mean(axis=1)\n",
    "test_mean = test_scores.mean(axis=1)\n",
    "\n",
    "plt.plot(train_sizes, train_mean, label=\"Train\")\n",
    "plt.plot(train_sizes, test_mean, label=\"Test\")\n",
    "plt.xlabel(\"Training Set Size\")\n",
    "plt.ylabel(\"Accuracy\")\n",
    "plt.legend()\n",
    "plt.title(\"Learning Curve\")\n",
    "plt.show()\n"
   ]
  },
  {
   "cell_type": "code",
   "execution_count": 81,
   "id": "97973f51",
   "metadata": {},
   "outputs": [],
   "source": [
    "import pickle\n",
    "\n",
    "# Train your model\n",
    "model.fit(X, y)\n",
    "\n",
    "# Save model\n",
    "with open(\"churn_value.pkl\", \"wb\") as f:\n",
    "    pickle.dump(model, f)\n",
    "with open(\"churn_value_encoder.pkl\", \"wb\") as f:\n",
    "    pickle.dump(encoder, f)\n",
    "with open(\"churn_value_categorical_columns.pkl\", \"wb\") as f:\n",
    "    pickle.dump(categorical_cols, f)\n"
   ]
  }
 ],
 "metadata": {
  "kernelspec": {
   "display_name": "langchain",
   "language": "python",
   "name": "python3"
  },
  "language_info": {
   "codemirror_mode": {
    "name": "ipython",
    "version": 3
   },
   "file_extension": ".py",
   "mimetype": "text/x-python",
   "name": "python",
   "nbconvert_exporter": "python",
   "pygments_lexer": "ipython3",
   "version": "3.10.16"
  }
 },
 "nbformat": 4,
 "nbformat_minor": 5
}
