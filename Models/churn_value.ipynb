{
 "cells": [
  {
   "cell_type": "code",
   "execution_count": 3,
   "id": "853fcf43",
   "metadata": {},
   "outputs": [],
   "source": [
    "import pandas as pd\n",
    "import numpy as np"
   ]
  },
  {
   "cell_type": "code",
   "execution_count": 4,
   "id": "a8655ba6",
   "metadata": {},
   "outputs": [
    {
     "data": {
      "text/plain": [
       "Index(['Age', 'Avg Monthly GB Download', 'Avg Monthly Long Distance Charges',\n",
       "       'Churn Category', 'Churn Reason', 'Churn Score', 'City', 'CLTV',\n",
       "       'Contract', 'Country', 'Customer ID', 'Customer Status', 'Dependents',\n",
       "       'Device Protection Plan', 'Gender', 'Internet Service', 'Internet Type',\n",
       "       'Lat Long', 'Latitude', 'Longitude', 'Married', 'Monthly Charge',\n",
       "       'Multiple Lines', 'Number of Dependents', 'Number of Referrals',\n",
       "       'Offer', 'Online Backup', 'Online Security', 'Paperless Billing',\n",
       "       'Partner', 'Payment Method', 'Phone Service', 'Population',\n",
       "       'Premium Tech Support', 'Quarter', 'Referred a Friend',\n",
       "       'Satisfaction Score', 'Senior Citizen', 'State', 'Streaming Movies',\n",
       "       'Streaming Music', 'Streaming TV', 'Tenure in Months', 'Total Charges',\n",
       "       'Total Extra Data Charges', 'Total Long Distance Charges',\n",
       "       'Total Refunds', 'Total Revenue', 'Under 30', 'Unlimited Data',\n",
       "       'Zip Code', 'Churn'],\n",
       "      dtype='object')"
      ]
     },
     "execution_count": 4,
     "metadata": {},
     "output_type": "execute_result"
    }
   ],
   "source": [
    "df = pd.read_csv(\"Datasets/telco_train.csv\")\n",
    "df.columns"
   ]
  },
  {
   "cell_type": "code",
   "execution_count": 5,
   "id": "82be6401",
   "metadata": {},
   "outputs": [],
   "source": [
    "df = df.drop(['Churn Category', 'Churn Reason', 'Churn Score','Customer Status','Lat Long','Customer ID','Latitude', 'Longitude','Quarter', 'Country','City','State'],axis=1)"
   ]
  },
  {
   "cell_type": "code",
   "execution_count": 6,
   "id": "300973fb",
   "metadata": {},
   "outputs": [
    {
     "data": {
      "text/plain": [
       "Index(['Age', 'Avg Monthly GB Download', 'Avg Monthly Long Distance Charges',\n",
       "       'CLTV', 'Contract', 'Dependents', 'Device Protection Plan', 'Gender',\n",
       "       'Internet Service', 'Internet Type', 'Married', 'Monthly Charge',\n",
       "       'Multiple Lines', 'Number of Dependents', 'Number of Referrals',\n",
       "       'Offer', 'Online Backup', 'Online Security', 'Paperless Billing',\n",
       "       'Partner', 'Payment Method', 'Phone Service', 'Population',\n",
       "       'Premium Tech Support', 'Referred a Friend', 'Satisfaction Score',\n",
       "       'Senior Citizen', 'Streaming Movies', 'Streaming Music', 'Streaming TV',\n",
       "       'Tenure in Months', 'Total Charges', 'Total Extra Data Charges',\n",
       "       'Total Long Distance Charges', 'Total Refunds', 'Total Revenue',\n",
       "       'Under 30', 'Unlimited Data', 'Zip Code', 'Churn'],\n",
       "      dtype='object')"
      ]
     },
     "execution_count": 6,
     "metadata": {},
     "output_type": "execute_result"
    }
   ],
   "source": [
    "df.columns"
   ]
  },
  {
   "cell_type": "code",
   "execution_count": 15,
   "id": "810645f2",
   "metadata": {},
   "outputs": [],
   "source": [
    "X = df.drop(['Churn'],axis=1)"
   ]
  },
  {
   "cell_type": "code",
   "execution_count": 16,
   "id": "1bb26ea1",
   "metadata": {},
   "outputs": [],
   "source": [
    "y = df['Churn']"
   ]
  },
  {
   "cell_type": "code",
   "execution_count": 17,
   "id": "ba08ecbb",
   "metadata": {},
   "outputs": [],
   "source": [
    "categorical_cols = X.select_dtypes(include=['object', 'category']).columns.tolist()"
   ]
  },
  {
   "cell_type": "code",
   "execution_count": 18,
   "id": "b6ea0841",
   "metadata": {},
   "outputs": [],
   "source": [
    "from sklearn.preprocessing import OneHotEncoder\n",
    "\n",
    "encoder = OneHotEncoder(sparse_output=False, drop='first')  # for scikit-learn < 1.2\n",
    "encoded_data = encoder.fit_transform(X[categorical_cols])"
   ]
  },
  {
   "cell_type": "code",
   "execution_count": 19,
   "id": "def06cce",
   "metadata": {},
   "outputs": [],
   "source": [
    "encoded_cols = encoder.get_feature_names_out(categorical_cols)\n",
    "\n",
    "encoded_df = pd.DataFrame(encoded_data, columns=encoded_cols, index=X.index)\n",
    "\n",
    "X = pd.concat([X.drop(columns=categorical_cols), encoded_df], axis=1)"
   ]
  },
  {
   "cell_type": "code",
   "execution_count": 20,
   "id": "c9ed1cb1",
   "metadata": {},
   "outputs": [
    {
     "name": "stderr",
     "output_type": "stream",
     "text": [
      "c:\\Users\\saza\\.conda\\envs\\langchain\\lib\\site-packages\\sklearn\\linear_model\\_logistic.py:465: ConvergenceWarning: lbfgs failed to converge (status=1):\n",
      "STOP: TOTAL NO. OF ITERATIONS REACHED LIMIT.\n",
      "\n",
      "Increase the number of iterations (max_iter) or scale the data as shown in:\n",
      "    https://scikit-learn.org/stable/modules/preprocessing.html\n",
      "Please also refer to the documentation for alternative solver options:\n",
      "    https://scikit-learn.org/stable/modules/linear_model.html#logistic-regression\n",
      "  n_iter_i = _check_optimize_result(\n"
     ]
    },
    {
     "name": "stdout",
     "output_type": "stream",
     "text": [
      "Logistic: 0.79\n",
      "RandomForest: 0.96\n",
      "GradientBoosting: 0.96\n",
      "XGBoost: 0.96\n",
      "[LightGBM] [Warning] Found whitespace in feature_names, replace with underlines\n",
      "[LightGBM] [Info] Number of positive: 887, number of negative: 2493\n",
      "[LightGBM] [Info] Auto-choosing col-wise multi-threading, the overhead of testing was 0.000859 seconds.\n",
      "You can set `force_col_wise=true` to remove the overhead.\n",
      "[LightGBM] [Info] Total Bins 2415\n",
      "[LightGBM] [Info] Number of data points in the train set: 3380, number of used features: 47\n",
      "[LightGBM] [Info] [binary:BoostFromScore]: pavg=0.262426 -> initscore=-1.033397\n",
      "[LightGBM] [Info] Start training from score -1.033397\n",
      "LightGBM: 0.96\n",
      "SVM: 0.72\n",
      "KNN: 0.69\n",
      "NaiveBayes: 0.79\n",
      "MLP: 0.72\n"
     ]
    }
   ],
   "source": [
    "from sklearn.model_selection import train_test_split\n",
    "from sklearn.metrics import accuracy_score\n",
    "from sklearn.neural_network import MLPClassifier\n",
    "from sklearn.naive_bayes import GaussianNB\n",
    "from sklearn.neighbors import KNeighborsClassifier\n",
    "from sklearn.svm import SVC\n",
    "from lightgbm import LGBMClassifier\n",
    "from sklearn.ensemble import GradientBoostingClassifier\n",
    "from sklearn.ensemble import RandomForestClassifier\n",
    "from sklearn.linear_model import LogisticRegression\n",
    "from xgboost import XGBClassifier\n",
    "\n",
    "models = {\n",
    "    \"Logistic\": LogisticRegression(),\n",
    "    \"RandomForest\": RandomForestClassifier(),\n",
    "    \"GradientBoosting\": GradientBoostingClassifier(),\n",
    "    \"XGBoost\": XGBClassifier(eval_metric='logloss'),\n",
    "    \"LightGBM\": LGBMClassifier(),\n",
    "    \"SVM\": SVC(),\n",
    "    \"KNN\": KNeighborsClassifier(),\n",
    "    \"NaiveBayes\": GaussianNB(),\n",
    "    \"MLP\": MLPClassifier(max_iter=500)\n",
    "}\n",
    "\n",
    "X_train, X_test, y_train, y_test = train_test_split(X, y, test_size=0.2, random_state=42)\n",
    "\n",
    "for name, model in models.items():\n",
    "    try:\n",
    "        model.fit(X_train, y_train)\n",
    "        preds = model.predict(X_test)\n",
    "        acc = accuracy_score(y_test, preds)\n",
    "        print(f\"{name}: {acc:.2f}\")\n",
    "    except Exception as e:\n",
    "        print(f\"{name} failed: {e}\")\n"
   ]
  },
  {
   "cell_type": "code",
   "execution_count": 23,
   "id": "c821cdb7",
   "metadata": {},
   "outputs": [],
   "source": [
    "model = XGBClassifier(    max_depth=4,        # reduce complexity\n",
    "    n_estimators=70,   # lower tree count\n",
    "    learning_rate=0.1,  # smaller steps\n",
    "    subsample=0.8,      # use 80% rows\n",
    "    colsample_bytree=0.8,  # use 80% features\n",
    "    reg_alpha=1,        # L1 regularization\n",
    "    reg_lambda=1,       # L2 regularization\n",
    "    eval_metric='logloss')\n"
   ]
  },
  {
   "cell_type": "code",
   "execution_count": 24,
   "id": "8589b74a",
   "metadata": {},
   "outputs": [
    {
     "data": {
      "image/png": "[encoded data removed]",
      "text/plain": [
       "<Figure size 640x480 with 1 Axes>"
      ]
     },
     "metadata": {},
     "output_type": "display_data"
    }
   ],
   "source": [
    "from sklearn.model_selection import learning_curve\n",
    "import matplotlib.pyplot as plt\n",
    "import numpy as np\n",
    "\n",
    "train_sizes, train_scores, test_scores = learning_curve(\n",
    "    model, X, y, cv=5, scoring='accuracy',\n",
    "    train_sizes=np.linspace(0.1, 1.0, 10)\n",
    ")\n",
    "\n",
    "train_mean = train_scores.mean(axis=1)\n",
    "test_mean = test_scores.mean(axis=1)\n",
    "\n",
    "plt.plot(train_sizes, train_mean, label=\"Train\")\n",
    "plt.plot(train_sizes, test_mean, label=\"Test\")\n",
    "plt.xlabel(\"Training Set Size\")\n",
    "plt.ylabel(\"Accuracy\")\n",
    "plt.legend()\n",
    "plt.title(\"Learning Curve\")\n",
    "plt.show()\n"
   ]
  },
  {
   "cell_type": "code",
   "execution_count": 25,
   "id": "97973f51",
   "metadata": {},
   "outputs": [],
   "source": [
    "import pickle\n",
    "\n",
    "# Train your model\n",
    "model.fit(X, y)\n",
    "\n",
    "# Save model\n",
    "with open(\"churn_value.pkl\", \"wb\") as f:\n",
    "    pickle.dump(model, f)\n",
    "with open(\"churn_value_encoder.pkl\", \"wb\") as f:\n",
    "    pickle.dump(encoder, f)\n",
    "with open(\"churn_value_categorical_columns.pkl\", \"wb\") as f:\n",
    "    pickle.dump(categorical_cols, f)\n"
   ]
  },
  {
   "cell_type": "code",
   "execution_count": null,
   "id": "aab4c3f9",
   "metadata": {},
   "outputs": [],
   "source": []
  },
  {
   "cell_type": "code",
   "execution_count": null,
   "id": "47988f7e",
   "metadata": {},
   "outputs": [],
   "source": []
  }
 ],
 "metadata": {
  "kernelspec": {
   "display_name": "langchain",
   "language": "python",
   "name": "python3"
  },
  "language_info": {
   "codemirror_mode": {
    "name": "ipython",
    "version": 3
   },
   "file_extension": ".py",
   "mimetype": "text/x-python",
   "name": "python",
   "nbconvert_exporter": "python",
   "pygments_lexer": "ipython3",
   "version": "3.10.16"
  }
 },
 "nbformat": 4,
 "nbformat_minor": 5
}
