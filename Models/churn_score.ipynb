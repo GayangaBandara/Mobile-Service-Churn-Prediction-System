{
 "cells": [
  {
   "cell_type": "code",
   "execution_count": 1,
   "id": "06eb0d13",
   "metadata": {},
   "outputs": [],
   "source": [
    "import pandas as pd"
   ]
  },
  {
   "cell_type": "code",
   "execution_count": 2,
   "id": "734a4523",
   "metadata": {},
   "outputs": [
    {
     "data": {
      "text/plain": [
       "Index(['Age', 'Avg Monthly GB Download', 'Avg Monthly Long Distance Charges',\n",
       "       'Churn Category', 'Churn Reason', 'Churn Score', 'City', 'CLTV',\n",
       "       'Contract', 'Country', 'Customer ID', 'Customer Status', 'Dependents',\n",
       "       'Device Protection Plan', 'Gender', 'Internet Service', 'Internet Type',\n",
       "       'Lat Long', 'Latitude', 'Longitude', 'Married', 'Monthly Charge',\n",
       "       'Multiple Lines', 'Number of Dependents', 'Number of Referrals',\n",
       "       'Offer', 'Online Backup', 'Online Security', 'Paperless Billing',\n",
       "       'Partner', 'Payment Method', 'Phone Service', 'Population',\n",
       "       'Premium Tech Support', 'Quarter', 'Referred a Friend',\n",
       "       'Satisfaction Score', 'Senior Citizen', 'State', 'Streaming Movies',\n",
       "       'Streaming Music', 'Streaming TV', 'Tenure in Months', 'Total Charges',\n",
       "       'Total Extra Data Charges', 'Total Long Distance Charges',\n",
       "       'Total Refunds', 'Total Revenue', 'Under 30', 'Unlimited Data',\n",
       "       'Zip Code', 'Churn'],\n",
       "      dtype='object')"
      ]
     },
     "execution_count": 2,
     "metadata": {},
     "output_type": "execute_result"
    }
   ],
   "source": [
    "df = pd.read_csv(\"Datasets/telco_train.csv\")\n",
    "df.columns"
   ]
  },
  {
   "cell_type": "code",
   "execution_count": 3,
   "id": "55d64edd",
   "metadata": {},
   "outputs": [],
   "source": [
    "df = df.drop(['Churn Category','Churn Reason','Churn','City','Country','Customer ID','Customer Status','Lat Long', 'Latitude', 'Longitude','Population','Quarter','State','Zip Code'],axis=1)"
   ]
  },
  {
   "cell_type": "code",
   "execution_count": 4,
   "id": "d607fb2e",
   "metadata": {},
   "outputs": [
    {
     "data": {
      "text/plain": [
       "Internet Type     886\n",
       "Offer            2324\n",
       "dtype: int64"
      ]
     },
     "execution_count": 4,
     "metadata": {},
     "output_type": "execute_result"
    }
   ],
   "source": [
    "df.isnull().sum()[df.isnull().sum() > 0]"
   ]
  },
  {
   "cell_type": "code",
   "execution_count": 5,
   "id": "5aa0a90e",
   "metadata": {},
   "outputs": [],
   "source": [
    "df.fillna(\"None\", inplace=True)\n"
   ]
  },
  {
   "cell_type": "code",
   "execution_count": 6,
   "id": "96d165d8",
   "metadata": {},
   "outputs": [],
   "source": [
    "X = df.drop(['Churn Score'],axis=1)"
   ]
  },
  {
   "cell_type": "code",
   "execution_count": 7,
   "id": "94b176d6",
   "metadata": {},
   "outputs": [],
   "source": [
    "y = df['Churn Score']"
   ]
  },
  {
   "cell_type": "code",
   "execution_count": 8,
   "id": "58c5f2f4",
   "metadata": {},
   "outputs": [
    {
     "data": {
      "text/plain": [
       "['Contract', 'Gender', 'Internet Type', 'Offer', 'Payment Method']"
      ]
     },
     "execution_count": 8,
     "metadata": {},
     "output_type": "execute_result"
    }
   ],
   "source": [
    "categorical_cols = X.select_dtypes(include=['object', 'category']).columns.tolist()\n",
    "categorical_cols"
   ]
  },
  {
   "cell_type": "code",
   "execution_count": 9,
   "id": "a48bfaba",
   "metadata": {},
   "outputs": [],
   "source": [
    "from sklearn.preprocessing import OneHotEncoder\n",
    "\n",
    "encoder = OneHotEncoder(sparse_output=False, drop='first')  # for scikit-learn < 1.2\n",
    "encoded_data = encoder.fit_transform(X[categorical_cols])"
   ]
  },
  {
   "cell_type": "code",
   "execution_count": 10,
   "id": "4fa8ae89",
   "metadata": {},
   "outputs": [],
   "source": [
    "encoded_cols = encoder.get_feature_names_out(categorical_cols)\n",
    "\n",
    "encoded_df = pd.DataFrame(encoded_data, columns=encoded_cols, index=X.index)\n",
    "\n",
    "X = pd.concat([X.drop(columns=categorical_cols), encoded_df], axis=1)"
   ]
  },
  {
   "cell_type": "code",
   "execution_count": 11,
   "id": "e1902183",
   "metadata": {},
   "outputs": [
    {
     "name": "stdout",
     "output_type": "stream",
     "text": [
      "LinearRegression — RMSE: 17.78, R²: 0.31\n",
      "DecisionTree — RMSE: 24.14, R²: -0.26\n",
      "RandomForest — RMSE: 17.33, R²: 0.35\n",
      "GradientBoosting — RMSE: 17.49, R²: 0.34\n",
      "XGBoost — RMSE: 19.18, R²: 0.20\n",
      "[LightGBM] [Warning] Found whitespace in feature_names, replace with underlines\n",
      "[LightGBM] [Info] Auto-choosing row-wise multi-threading, the overhead of testing was 0.000496 seconds.\n",
      "You can set `force_row_wise=true` to remove the overhead.\n",
      "And if memory is not enough, you can set `force_col_wise=true`.\n",
      "[LightGBM] [Info] Total Bins 1905\n",
      "[LightGBM] [Info] Number of data points in the train set: 3380, number of used features: 45\n",
      "[LightGBM] [Info] Start training from score 58.248817\n",
      "LightGBM — RMSE: 17.71, R²: 0.32\n",
      "SVR — RMSE: 21.45, R²: 0.00\n",
      "KNN — RMSE: 22.63, R²: -0.11\n",
      "MLP — RMSE: 20.03, R²: 0.13\n"
     ]
    }
   ],
   "source": [
    "from sklearn.model_selection import train_test_split\n",
    "from sklearn.metrics import mean_squared_error, r2_score\n",
    "from sklearn.linear_model import LinearRegression\n",
    "from sklearn.tree import DecisionTreeRegressor\n",
    "from sklearn.neighbors import KNeighborsRegressor\n",
    "from sklearn.ensemble import RandomForestRegressor, GradientBoostingRegressor\n",
    "from sklearn.neural_network import MLPRegressor\n",
    "from sklearn.svm import SVR\n",
    "from xgboost import XGBRegressor\n",
    "from lightgbm import LGBMRegressor\n",
    "import numpy as np\n",
    "\n",
    "regressors = {\n",
    "    \"LinearRegression\": LinearRegression(),\n",
    "    \"DecisionTree\": DecisionTreeRegressor(),\n",
    "    \"RandomForest\": RandomForestRegressor(),\n",
    "    \"GradientBoosting\": GradientBoostingRegressor(),\n",
    "    \"XGBoost\": XGBRegressor(),\n",
    "    \"LightGBM\": LGBMRegressor(),\n",
    "    \"SVR\": SVR(),\n",
    "    \"KNN\": KNeighborsRegressor(),\n",
    "    \"MLP\": MLPRegressor(max_iter=500)\n",
    "}\n",
    "\n",
    "X_train, X_test, y_train, y_test = train_test_split(X, y, test_size=0.2, random_state=42)\n",
    "\n",
    "for name, model in regressors.items():\n",
    "    try:\n",
    "        model.fit(X_train, y_train)\n",
    "        preds = model.predict(X_test)\n",
    "        rmse = np.sqrt(mean_squared_error(y_test, preds))  # manual RMSE\n",
    "        r2 = r2_score(y_test, preds)\n",
    "        print(f\"{name} — RMSE: {rmse:.2f}, R²: {r2:.2f}\")\n",
    "    except Exception as e:\n",
    "        print(f\"{name} failed: {e}\")\n"
   ]
  },
  {
   "cell_type": "code",
   "execution_count": 12,
   "id": "9556089e",
   "metadata": {},
   "outputs": [],
   "source": [
    "model = RandomForestRegressor(\n",
    "    n_estimators=100,\n",
    "    max_depth=5,           # reduce depth to avoid memorization\n",
    "    min_samples_leaf=10,   # each leaf must have at least 10 samples\n",
    "    random_state=42\n",
    ")\n"
   ]
  },
  {
   "cell_type": "code",
   "execution_count": 13,
   "id": "166b99a9",
   "metadata": {},
   "outputs": [
    {
     "data": {
      "image/png": "[encoded data removed]",
      "text/plain": [
       "<Figure size 640x480 with 1 Axes>"
      ]
     },
     "metadata": {},
     "output_type": "display_data"
    }
   ],
   "source": [
    "from sklearn.model_selection import learning_curve\n",
    "import matplotlib.pyplot as plt\n",
    "\n",
    "train_sizes, train_scores, test_scores = learning_curve(\n",
    "    model, X, y, cv=5, scoring='r2', train_sizes=np.linspace(0.1, 1.0, 10)\n",
    ")\n",
    "\n",
    "plt.plot(train_sizes, train_scores.mean(axis=1), label='Train R²')\n",
    "plt.plot(train_sizes, test_scores.mean(axis=1), label='Test R²')\n",
    "plt.xlabel(\"Training size\")\n",
    "plt.ylabel(\"R² Score\")\n",
    "plt.legend()\n",
    "plt.title(\"Learning Curve\")\n",
    "plt.show()\n"
   ]
  },
  {
   "cell_type": "code",
   "execution_count": 14,
   "id": "922ffcc4",
   "metadata": {},
   "outputs": [],
   "source": [
    "import pickle\n",
    "\n",
    "# Train your model\n",
    "model.fit(X, y)\n",
    "\n",
    "# Save model\n",
    "with open(\"churn_score.pkl\", \"wb\") as f:\n",
    "    pickle.dump(model, f)\n",
    "with open(\"churn_score_encoder.pkl\", \"wb\") as f:\n",
    "    pickle.dump(encoder, f)\n",
    "with open(\"churn_score_categorical_columns.pkl\", \"wb\") as f:\n",
    "    pickle.dump(categorical_cols, f)\n"
   ]
  }
 ],
 "metadata": {
  "kernelspec": {
   "display_name": "langchain",
   "language": "python",
   "name": "python3"
  },
  "language_info": {
   "codemirror_mode": {
    "name": "ipython",
    "version": 3
   },
   "file_extension": ".py",
   "mimetype": "text/x-python",
   "name": "python",
   "nbconvert_exporter": "python",
   "pygments_lexer": "ipython3",
   "version": "3.10.16"
  }
 },
 "nbformat": 4,
 "nbformat_minor": 5
}
